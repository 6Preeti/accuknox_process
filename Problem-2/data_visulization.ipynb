{
 "cells": [
  {
   "cell_type": "code",
   "execution_count": 1,
   "metadata": {},
   "outputs": [],
   "source": [
    "import requests\n",
    "import pandas as pd\n",
    "import matplotlib.pyplot as plt"
   ]
  },
  {
   "cell_type": "code",
   "execution_count": 22,
   "metadata": {},
   "outputs": [],
   "source": [
    "# Fetch data from API\n",
    "response = requests.get('https://abc.com/api/test_scores')\n",
    "# By using Rapid api \n",
    "# url = \"https://mdblist.p.rapidapi.com/\"\n",
    "\n",
    "# querystring = {\"s\":\"jaws\"}\n",
    "\n",
    "# headers = {\n",
    "# \t\"X-RapidAPI-Key\": \"b8ca5f73e4mshd3669bb6f7313dfp1177fajsn6186a6946691\",\n",
    "# \t\"X-RapidAPI-Host\": \"mdblist.p.rapidapi.com\"\n",
    "# }\n",
    "\n",
    "# response = requests.get(url, headers=headers, params=querystring)\n",
    "\n",
    "data=response.json()"
   ]
  },
  {
   "cell_type": "code",
   "execution_count": null,
   "metadata": {},
   "outputs": [],
   "source": [
    "print(data)"
   ]
  },
  {
   "cell_type": "code",
   "execution_count": null,
   "metadata": {},
   "outputs": [],
   "source": [
    "#To calculate the average score\n",
    "scores = [entry['score'] for entry in data['students']]\n",
    "average_score = sum(scores) / len(scores)\n",
    "\n",
    "#Visualize the data by using bar chart\n",
    "df = pd.DataFrame(data['students'])\n",
    "plt.bar(df['student_id'], df['score'])\n",
    "plt.xlabel('Student ID')\n",
    "plt.ylabel('Test Score')\n",
    "plt.title('Test Scores of Students')\n",
    "plt.axhline(y=average_score, color='r', linestyle='-', label='Average Score')\n",
    "plt.legend()\n",
    "plt.show()"
   ]
  }
 ],
 "metadata": {
  "kernelspec": {
   "display_name": "Python 3",
   "language": "python",
   "name": "python3"
  },
  "language_info": {
   "codemirror_mode": {
    "name": "ipython",
    "version": 3
   },
   "file_extension": ".py",
   "mimetype": "text/x-python",
   "name": "python",
   "nbconvert_exporter": "python",
   "pygments_lexer": "ipython3",
   "version": "3.9.7"
  }
 },
 "nbformat": 4,
 "nbformat_minor": 2
}
